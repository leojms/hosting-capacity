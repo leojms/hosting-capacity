{
 "cells": [
  {
   "cell_type": "markdown",
   "metadata": {},
   "source": [
    "### Imports"
   ]
  },
  {
   "cell_type": "code",
   "execution_count": 205,
   "metadata": {},
   "outputs": [
    {
     "name": "stdout",
     "output_type": "stream",
     "text": [
      "OpenDSS Started successfully! \n",
      "OpenDSS Version 9.4.0.1 (64-bit build); License Status: Open \n",
      "\n",
      "\n"
     ]
    }
   ],
   "source": [
    "#importação de bibliotecas\n",
    "import py_dss_interface\n",
    "import random\n",
    "import functions\n",
    "\n",
    "#localização do arquivo\n",
    "arquivo = r\"C:\\Users\\leonardo.simoes\\OneDrive - Sistema FIEB\\centro_comp\\host_cap\\circuito\\ckt5\\Master_ckt5.dss\"\n",
    "\n",
    "#criação do objeto para referenciar ao OpenDSS\n",
    "dss = py_dss_interface.DSSDLL()"
   ]
  },
  {
   "cell_type": "markdown",
   "metadata": {},
   "source": [
    "### Compilar"
   ]
  },
  {
   "cell_type": "code",
   "execution_count": 206,
   "metadata": {},
   "outputs": [
    {
     "data": {
      "text/plain": [
       "''"
      ]
     },
     "execution_count": 206,
     "metadata": {},
     "output_type": "execute_result"
    }
   ],
   "source": [
    "#limpar a memoria e compilar o arquivo\n",
    "dss.text(\"clear\")\n",
    "dss.text(f\"Compile [{arquivo}]\")"
   ]
  },
  {
   "cell_type": "markdown",
   "metadata": {},
   "source": [
    "### Variáveis"
   ]
  },
  {
   "cell_type": "code",
   "execution_count": 207,
   "metadata": {},
   "outputs": [],
   "source": [
    "#tensão padronizada do equivalente de thevenin\n",
    "thevenin_pu = 1.045\n",
    "#percentual de redução da carga\n",
    "load_mult = 0.2\n",
    "#fator de potencia\n",
    "pf=0.92\n",
    "#percentual de barras que vão ser utilizadas\n",
    "q_perc_barras = 0.8\n",
    "#passo de crescimento da potência em kva\n",
    "p_step = 5 #kva\n",
    "#....duvida\n",
    "kva_to_kw = 1\n",
    "#Valor inteiro para padronizar a randomização da distribuição de fotovoltaicos\n",
    "valor_seed = 114"
   ]
  },
  {
   "cell_type": "markdown",
   "metadata": {},
   "source": [
    "### Parte 1"
   ]
  },
  {
   "cell_type": "code",
   "execution_count": 208,
   "metadata": {},
   "outputs": [],
   "source": [
    "#Editando impedancia para um valor pequeno \n",
    "#de elementos que ficam próximos a fonte, a fim de manter a tensão de entrada sem variações\n",
    "dss.text(\"edit Reactor.MDV_SUB_1_HSB x=0.0000001 r=0.0000001\")\n",
    "dss.text(r\"edit Transformer.MDV_SUB_1 %loadloss=0.000001 xhl=0.0000001\")\n",
    "#modificando a tensão pu da fonte\n",
    "dss.text(f\"edit Vsource.SOURCE pu={thevenin_pu}\")\n",
    "#redução da carga para uma porcentagem da instalada, a fim de aumentar a potência fluindo nas linhas \n",
    "dss.text(f\"set loadmult = {load_mult}\")\n",
    "\n",
    "dss.solution_solve()\n",
    "\n",
    "#Plotar perfil de tensão\n",
    "dss.text(\"Plot Profile Phases = All\")\n",
    "#armazenando valores de tensão, p e q do circuito\n",
    "tensoes = dss.circuit_all_bus_vmag_pu()\n",
    "thev_kw = -dss.circuit_total_power()[0]\n",
    "thev_kvar = -dss.circuit_total_power()[1]"
   ]
  },
  {
   "cell_type": "markdown",
   "metadata": {},
   "source": [
    "### Parte 2"
   ]
  },
  {
   "cell_type": "code",
   "execution_count": 209,
   "metadata": {},
   "outputs": [
    {
     "data": {
      "text/plain": [
       "'C:\\\\Users\\\\leonardo.simoes\\\\OneDrive - Sistema FIEB\\\\centro_comp\\\\host_cap\\\\circuito\\\\ckt5\\\\ckt5_Power.DSV'"
      ]
     },
     "execution_count": 209,
     "metadata": {},
     "output_type": "execute_result"
    }
   ],
   "source": [
    "#todas as barras do circuito trifásicas de média tensão\n",
    "barras_hc_geral = list()\n",
    "#tensoes associadas as barras do circuito\n",
    "barras_kv = dict()\n",
    "#todas as barras\n",
    "barras = dss.circuit_all_bus_names()\n",
    "\n",
    "#loop para mapear as barras\n",
    "for barra in barras:\n",
    "    #setar a barra que vai ser avaliada\n",
    "    dss.circuit_set_active_bus(barra)\n",
    "    #mapeando a tensão da barra\n",
    "    barra_kv = dss.bus_kv_base()\n",
    "    #avaliando o número de fases\n",
    "    num_fases = len(dss.bus_nodes())\n",
    "    \n",
    "    #condicional para avaliar se são trifásicas e de média tensão\n",
    "    if barra_kv > 1.0 and num_fases == 3 and barra!= 'sourcebus':\n",
    "        barras_hc_geral.append(barra)\n",
    "        barras_kv[barra] = barra_kv\n",
    "\n",
    "#selecionando um percentual das barras para fazer HC\n",
    "random.seed(valor_seed)        \n",
    "barras_hc = random.sample(barras_hc_geral, int(q_perc_barras*len(barras_hc_geral)))\n",
    "\n",
    "#aplicando um sistema FV nas barras que foram escolhidas\n",
    "for barra in barras_hc:\n",
    "    functions.define_3ph_pvsystem(dss=dss, bus=barra, kv=barras_kv[barra], kva=kva_to_kw * p_step, pmpp = p_step)\n",
    "    functions.add_bus_marker(dss=dss, bus=barra, color=\"red\", size_marker=4)\n",
    "\n",
    "#interpolando os pontos de coordenada para adicionar as coordenadas as barras que estão sem\n",
    "dss.text(\"interpolate\")\n",
    "#calculando o fluxo\n",
    "dss.solution_solve()\n",
    "#plot do SEP\n",
    "dss.text(\"plot circuit Power max=2000 n n C1=$00FF0000\")"
   ]
  },
  {
   "cell_type": "markdown",
   "metadata": {},
   "source": [
    "### Parte 3"
   ]
  },
  {
   "cell_type": "code",
   "execution_count": 210,
   "metadata": {},
   "outputs": [],
   "source": [
    "#flags para indicar se há violação na rede\n",
    "sobretensao = False\n",
    "sobrecarga = False\n",
    "#limite de tensao avaliado\n",
    "v_limite = 1.05\n",
    "\n",
    "#numero de iterações\n",
    "i=0\n",
    "#loop de cálculo do HC\n",
    "while not sobretensao and not sobrecarga and i<1000:\n",
    "    #incremento das iterações\n",
    "    i += 1\n",
    "    #aumento do sistema fotovoltaico de acordo com o passo definido\n",
    "    functions.increment_pv_size(dss=dss, p_step=p_step, kva_to_kw=kva_to_kw, pf=pf, i=i)\n",
    "    #calculo do fluxo\n",
    "    dss.solution_solve()\n",
    "    #armazenamento das tensoes\n",
    "    tensoes = dss.circuit_all_bus_vmag_pu()\n",
    "    #avaliação do ponto que possui a maior tensão\n",
    "    v_max = max(tensoes)\n",
    "    \n",
    "    #condicional para avaliar a existência de sobretensão\n",
    "    if v_max > v_limite:\n",
    "        sobretensao = True\n",
    "\n",
    "    #lógica para avaliar sobrecarga \n",
    "    #Selecionada a primeira linha do circuito\n",
    "    dss.lines_first()\n",
    "    #loop para varrer todas as linhas do circuito\n",
    "    for _ in range(dss.lines_count()):\n",
    "        #Selecionar a linha que vai ser avaliada\n",
    "        dss.circuit_set_active_element(f\"line.{dss.lines_read_name()}\")\n",
    "        #armazenar a corrente atual da linha\n",
    "        i_linha = dss.cktelement_currents_mag_ang()\n",
    "        #armazenar a corrente nominal da linha\n",
    "        i_nom_linha = dss.lines_read_norm_amps()\n",
    "        \n",
    "        #avaliar se a corrente atual é maior que a corrente nominal\n",
    "        #se for, há sobrecarga\n",
    "        if (max(i_linha[0:12:2]) / i_nom_linha) > 1:\n",
    "            sobrecarga = True\n",
    "            break\n",
    "    \n",
    "        #ir para a próxima linha    \n",
    "        dss.lines_next()\n",
    "\n",
    "#Selecionar o valor anterior do fotovoltaico, para não ter violação\n",
    "functions.increment_pv_size(dss=dss, p_step=p_step, kva_to_kw=kva_to_kw, pf=pf, i=i-1)\n",
    "#calculo do fluxo\n",
    "dss.solution_solve()\n",
    "\n",
    "# potencia step * quantidade de iterações (valor da potência final) * numero de barras que foram aplicados os fv\n",
    "nivel_penetracao = (i-1) * len(barras_hc) * p_step\n",
    "\n",
    "#medindo a entrada do circuito com o sistema fv\n",
    "thev_kw_com_fv = -1 * dss.circuit_total_power()[0]\n",
    "thev_kvar_com_fv = -1 * dss.circuit_total_power()[1]\n",
    "#todas as tensões nodais do circuito\n",
    "v_pu = dss.circuit_all_bus_vmag_pu()\n",
    "#armazenando a tensão máxima e mínima\n",
    "tensao_min = min(v_pu)\n",
    "tensao_max = max(v_pu)\n",
    "#potências do fv ativa e reativa\n",
    "fv_kw, fv_kvar = functions.get_total_pv_powers(dss)"
   ]
  },
  {
   "cell_type": "markdown",
   "metadata": {},
   "source": []
  },
  {
   "cell_type": "markdown",
   "metadata": {},
   "source": []
  },
  {
   "cell_type": "markdown",
   "metadata": {},
   "source": [
    "### Resultados"
   ]
  },
  {
   "cell_type": "code",
   "execution_count": 211,
   "metadata": {},
   "outputs": [
    {
     "data": {
      "text/plain": [
       "(1640, 1508.8000006311945, 642.7461091003931)"
      ]
     },
     "execution_count": 211,
     "metadata": {},
     "output_type": "execute_result"
    }
   ],
   "source": [
    "nivel_penetracao, fv_kw, fv_kvar"
   ]
  }
 ],
 "metadata": {
  "kernelspec": {
   "display_name": "Python 3.9.12 ('base')",
   "language": "python",
   "name": "python3"
  },
  "language_info": {
   "codemirror_mode": {
    "name": "ipython",
    "version": 3
   },
   "file_extension": ".py",
   "mimetype": "text/x-python",
   "name": "python",
   "nbconvert_exporter": "python",
   "pygments_lexer": "ipython3",
   "version": "3.9.12"
  },
  "orig_nbformat": 4,
  "vscode": {
   "interpreter": {
    "hash": "586bb4617b3c570bf1592cc8c78b3f79e6a629a70ee70d3ae2cce415f3e518c9"
   }
  }
 },
 "nbformat": 4,
 "nbformat_minor": 2
}
